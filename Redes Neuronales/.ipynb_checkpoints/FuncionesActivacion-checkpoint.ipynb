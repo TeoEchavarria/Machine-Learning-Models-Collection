{
 "cells": [
  {
   "cell_type": "markdown",
   "id": "725759e3-cd7c-43bc-afd5-a27ba87addaa",
   "metadata": {},
   "source": [
    "# Funciones de Activacion"
   ]
  },
  {
   "cell_type": "markdown",
   "id": "19257aee-2ee1-474d-b911-71c62c0a35f6",
   "metadata": {},
   "source": [
    "Existen diversas funciones que realizan esta accion de activar o desactivar una neurona. Estas funciones lo que hacen es aplicarse dentro de la capa oculta, con el fin de filtrar ciertos imputs que no deseamos."
   ]
  },
  {
   "cell_type": "code",
   "execution_count": null,
   "id": "8ef2858c-79c2-484e-a482-73609dd1d876",
   "metadata": {},
   "outputs": [],
   "source": []
  }
 ],
 "metadata": {
  "kernelspec": {
   "display_name": "Python 3 (ipykernel)",
   "language": "python",
   "name": "python3"
  },
  "language_info": {
   "codemirror_mode": {
    "name": "ipython",
    "version": 3
   },
   "file_extension": ".py",
   "mimetype": "text/x-python",
   "name": "python",
   "nbconvert_exporter": "python",
   "pygments_lexer": "ipython3",
   "version": "3.10.9"
  }
 },
 "nbformat": 4,
 "nbformat_minor": 5
}
